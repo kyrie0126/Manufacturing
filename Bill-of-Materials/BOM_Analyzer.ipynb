{
 "cells": [
  {
   "cell_type": "markdown",
   "id": "0fbdfe76",
   "metadata": {},
   "source": [
    "# Install Packages"
   ]
  },
  {
   "cell_type": "code",
   "execution_count": 2,
   "id": "ae829a67",
   "metadata": {},
   "outputs": [],
   "source": [
    "import pandas as pd\n",
    "import networkx as nx\n",
    "import matplotlib.pyplot as plt\n",
    "import numpy as np\n",
    "from typing import Union"
   ]
  },
  {
   "cell_type": "markdown",
   "id": "77439d26",
   "metadata": {},
   "source": [
    "# Quick Start Guide for BOM Analysis"
   ]
  },
  {
   "cell_type": "markdown",
   "id": "50108451",
   "metadata": {},
   "source": [
    "## Step 1: Get Data\n",
    "This would probably be a sql query converted to a dataframe. But, for the purpose of this notebook, I will manually create a simple BOM"
   ]
  },
  {
   "cell_type": "code",
   "execution_count": 3,
   "id": "f716eb69",
   "metadata": {},
   "outputs": [],
   "source": [
    "test_df = pd.DataFrame([\n",
    "    {'PARENTPARTNUM':'Complete','PARTNUM': 'A','TYPECODE': 'M','BOMLEVEL':0,'LEADTIME':8},\n",
    "    {'PARENTPARTNUM':'A','PARTNUM': 'B','TYPECODE': 'M','BOMLEVEL':1,'LEADTIME':10},\n",
    "    {'PARENTPARTNUM':'A','PARTNUM': 'C','TYPECODE': 'P','BOMLEVEL':1,'LEADTIME':38},\n",
    "    {'PARENTPARTNUM':'A','PARTNUM': 'D','TYPECODE': 'M','BOMLEVEL':1,'LEADTIME':7},\n",
    "    {'PARENTPARTNUM':'B','PARTNUM': 'E','TYPECODE': 'M','BOMLEVEL':2,'LEADTIME':9},\n",
    "    {'PARENTPARTNUM':'B','PARTNUM': 'F','TYPECODE': 'P','BOMLEVEL':2,'LEADTIME':21},\n",
    "    {'PARENTPARTNUM':'B','PARTNUM': 'G','TYPECODE': 'M','BOMLEVEL':2,'LEADTIME':6},\n",
    "    {'PARENTPARTNUM':'D','PARTNUM': 'H','TYPECODE': 'P','BOMLEVEL':2,'LEADTIME':23},\n",
    "    {'PARENTPARTNUM':'D','PARTNUM': 'I','TYPECODE': 'M','BOMLEVEL':2,'LEADTIME':10},\n",
    "    {'PARENTPARTNUM':'D','PARTNUM': 'J','TYPECODE': 'P','BOMLEVEL':2,'LEADTIME':45},\n",
    "    {'PARENTPARTNUM':'E','PARTNUM': 'K','TYPECODE': 'P','BOMLEVEL':3,'LEADTIME':25},\n",
    "    {'PARENTPARTNUM':'E','PARTNUM': 'L','TYPECODE': 'P','BOMLEVEL':3,'LEADTIME':27},\n",
    "    {'PARENTPARTNUM':'G','PARTNUM': 'M','TYPECODE': 'P','BOMLEVEL':3,'LEADTIME':41},\n",
    "    {'PARENTPARTNUM':'G','PARTNUM': 'N','TYPECODE': 'P','BOMLEVEL':3,'LEADTIME':35},\n",
    "    {'PARENTPARTNUM':'I','PARTNUM': 'O','TYPECODE': 'P','BOMLEVEL':3,'LEADTIME':24},\n",
    "    {'PARENTPARTNUM':'I','PARTNUM': 'P','TYPECODE': 'M','BOMLEVEL':3,'LEADTIME':4},\n",
    "    {'PARENTPARTNUM':'P','PARTNUM': 'Q','TYPECODE': 'P','BOMLEVEL':4,'LEADTIME':21},\n",
    "    {'PARENTPARTNUM':'P','PARTNUM': 'R','TYPECODE': 'P','BOMLEVEL':4,'LEADTIME':25},\n",
    "    {'PARENTPARTNUM':'P','PARTNUM': 'S','TYPECODE': 'P','BOMLEVEL':4,'LEADTIME':29}\n",
    "])"
   ]
  },
  {
   "cell_type": "markdown",
   "id": "ee0628b2",
   "metadata": {},
   "source": [
    "## Step 2: Create the BomAnalyzer class"
   ]
  },
  {
   "cell_type": "code",
   "execution_count": 4,
   "id": "e19c7bb7",
   "metadata": {},
   "outputs": [],
   "source": [
    "class BomAnalyzer:\n",
    "    def __init__(self):\n",
    "        \"\"\"\n",
    "        Initialize the BOM Analyzer class.\n",
    "        \"\"\"\n",
    "        \n",
    "        self.bom_df = None\n",
    "        self.root = None\n",
    "        self.loaded = False\n",
    "        self.DG = None\n",
    "        self.purchased_parts = None\n",
    "        self.manufactured_parts = None\n",
    "\n",
    "    def load(self, bom_df: pd.DataFrame, root: str):\n",
    "        \"\"\"\n",
    "        Load the BOM Analyzer with a dataframe containing BOM data.\n",
    "\n",
    "        Args:\n",
    "        bom_df: pd.DataFrame\n",
    "            Expected columns:\n",
    "            - PARENTPARTNUM\n",
    "            - PARTNUMTYPECODE\n",
    "            - BOMLEVEL\n",
    "            - LEADTIME\n",
    "\n",
    "        root: str = root part of the BOM\n",
    "        \"\"\"\n",
    "\n",
    "        # re-init values\n",
    "        self.bom_df = bom_df\n",
    "        self.root = root\n",
    "        self.purchased_parts = self.bom_df[self.bom_df['TYPECODE']=='P']['PARTNUM'].drop_duplicates().values\n",
    "        self.manufactured_parts = self.bom_df[self.bom_df['TYPECODE']=='M']['PARTNUM'].drop_duplicates().values\n",
    "        self.DG = nx.DiGraph()\n",
    "\n",
    "        # load graph\n",
    "        part_nodes = self.bom_df['PARTNUM'].drop_duplicates().to_list()\n",
    "        for part in part_nodes:\n",
    "            self.DG.add_node(part)\n",
    "        \n",
    "        for _, row in self.bom_df.iterrows():\n",
    "            parent, child, bom_level, part_type, lead_time = row['PARENTPARTNUM'], row['PARTNUM'], row['BOMLEVEL'], row['TYPECODE'], row['LEADTIME']\n",
    "            self.DG.add_edge(parent, child, lead_time=lead_time, bom_level=bom_level, part_type=part_type)\n",
    "\n",
    "        # change loaded state\n",
    "        self.loaded = True\n",
    "\n",
    "        print('BOM has been successfully loaded')\n",
    "\n",
    "\n",
    "    def get_longest_leadtime_path(self):\n",
    "        \"\"\"\n",
    "        Get a dataframe of the longest leadtime sequence.\n",
    "\n",
    "        Returns:\n",
    "        - pd.DataFrame\n",
    "        \n",
    "        \"\"\"\n",
    "        \n",
    "        if not self.loaded:\n",
    "            print('BOM not loaded')\n",
    "            return\n",
    "            \n",
    "        longest_path = nx.dag_longest_path(self.DG, weight='lead_time')\n",
    "        consecutive_pairs = set(zip(longest_path[1:], longest_path))\n",
    "        longest_path_df = self.bom_df[self.bom_df[['PARTNUM', 'PARENTPARTNUM']].apply(tuple, axis=1).isin(consecutive_pairs)].sort_values(by='BOMLEVEL').drop_duplicates()\n",
    "        return longest_path_df\n",
    "\n",
    "    \n",
    "    def get_longest_leadtime_value(self):\n",
    "        \"\"\"\n",
    "        Get the value of the longest leadtime sequence.\n",
    "\n",
    "        Returns:\n",
    "        - float\n",
    "        \"\"\"\n",
    "        if not self.loaded:\n",
    "            print('BOM not loaded')\n",
    "            return\n",
    "            \n",
    "        return nx.dag_longest_path_length(self.DG, weight='lead_time')\n",
    "\n",
    "\n",
    "    def get_all_paths(self):\n",
    "        \"\"\"\n",
    "        Get all paths between root part and purchased \n",
    "        \"\"\"\n",
    "        if not self.loaded:\n",
    "            print('BOM not loaded')\n",
    "            return\n",
    "            \n",
    "        all_rows = []\n",
    "        for part in self.purchased_parts:\n",
    "            paths = nx.all_simple_paths(self.DG,self.root,part)\n",
    "            for path in paths:\n",
    "                total_length = 0\n",
    "                for i in range(len(path)-1):\n",
    "                    source, target = path[i], path[i+1]\n",
    "                    edge = self.DG[source][target]\n",
    "                    length = edge['lead_time']\n",
    "                    total_length += length\n",
    "                # print('{}: {}'.format(path, total_length))\n",
    "                row = {\n",
    "                    'path': path,\n",
    "                    'bomlevel': len(path),\n",
    "                    'leadtime': total_length\n",
    "                }\n",
    "            \n",
    "                all_rows.append(row)\n",
    "        \n",
    "        all_paths = pd.DataFrame(all_rows).sort_values(by='leadtime', ascending=False).reset_index(drop=True)\n",
    "        \n",
    "        return all_paths\n"
   ]
  },
  {
   "cell_type": "markdown",
   "id": "4c608891",
   "metadata": {},
   "source": [
    "## Step 3: Load the BOM"
   ]
  },
  {
   "cell_type": "code",
   "execution_count": 7,
   "id": "67283e8e",
   "metadata": {},
   "outputs": [
    {
     "name": "stdout",
     "output_type": "stream",
     "text": [
      "BOM has been successfully loaded\n"
     ]
    }
   ],
   "source": [
    "# init\n",
    "test_bom = BomAnalyzer()\n",
    "test_bom.load(test_df, root='A')"
   ]
  },
  {
   "cell_type": "markdown",
   "id": "5b5befbe",
   "metadata": {},
   "source": [
    "## Step 4: Get BOM Insights"
   ]
  },
  {
   "cell_type": "markdown",
   "id": "5bb90ef3",
   "metadata": {},
   "source": [
    "### Attributes from the BOM class"
   ]
  },
  {
   "cell_type": "code",
   "execution_count": 8,
   "id": "7acbe792",
   "metadata": {},
   "outputs": [
    {
     "name": "stdout",
     "output_type": "stream",
     "text": [
      "bom_df:\n",
      "   PARENTPARTNUM PARTNUM TYPECODE  BOMLEVEL  LEADTIME\n",
      "0       Complete       A        M         0         8\n",
      "1              A       B        M         1        10\n",
      "2              A       C        P         1        38\n",
      "3              A       D        M         1         7\n",
      "4              B       E        M         2         9\n",
      "5              B       F        P         2        21\n",
      "6              B       G        M         2         6\n",
      "7              D       H        P         2        23\n",
      "8              D       I        M         2        10\n",
      "9              D       J        P         2        45\n",
      "10             E       K        P         3        25\n",
      "11             E       L        P         3        27\n",
      "12             G       M        P         3        41\n",
      "13             G       N        P         3        35\n",
      "14             I       O        P         3        24\n",
      "15             I       P        M         3         4\n",
      "16             P       Q        P         4        21\n",
      "17             P       R        P         4        25\n",
      "18             P       S        P         4        29\n",
      "root: A\n",
      "loaded: True\n",
      "DG: DiGraph with 20 nodes and 19 edges\n",
      "manufactured_parts: ['A' 'B' 'D' 'E' 'G' 'I' 'P']\n",
      "purchased_parts: ['C' 'F' 'H' 'J' 'K' 'L' 'M' 'N' 'O' 'Q' 'R' 'S']\n"
     ]
    }
   ],
   "source": [
    "# test attributes\n",
    "print(f'bom_df:\\n{test_bom.bom_df}')\n",
    "print(f'root: {test_bom.root}')\n",
    "print(f'loaded: {test_bom.loaded}')\n",
    "print(f'DG: {test_bom.DG}')\n",
    "print(f'manufactured_parts: {test_bom.manufactured_parts}')\n",
    "print(f'purchased_parts: {test_bom.purchased_parts}')"
   ]
  },
  {
   "cell_type": "markdown",
   "id": "c302fc61",
   "metadata": {},
   "source": [
    "### Modules from BOM class"
   ]
  },
  {
   "cell_type": "markdown",
   "id": "32f11ad8",
   "metadata": {},
   "source": [
    "Get all BOM paths from root to purchased part (aka leaf)"
   ]
  },
  {
   "cell_type": "code",
   "execution_count": 9,
   "id": "4c3d393c",
   "metadata": {},
   "outputs": [
    {
     "data": {
      "text/html": [
       "<div>\n",
       "<style scoped>\n",
       "    .dataframe tbody tr th:only-of-type {\n",
       "        vertical-align: middle;\n",
       "    }\n",
       "\n",
       "    .dataframe tbody tr th {\n",
       "        vertical-align: top;\n",
       "    }\n",
       "\n",
       "    .dataframe thead th {\n",
       "        text-align: right;\n",
       "    }\n",
       "</style>\n",
       "<table border=\"1\" class=\"dataframe\">\n",
       "  <thead>\n",
       "    <tr style=\"text-align: right;\">\n",
       "      <th></th>\n",
       "      <th>path</th>\n",
       "      <th>bomlevel</th>\n",
       "      <th>leadtime</th>\n",
       "    </tr>\n",
       "  </thead>\n",
       "  <tbody>\n",
       "    <tr>\n",
       "      <th>0</th>\n",
       "      <td>[A, B, G, M]</td>\n",
       "      <td>4</td>\n",
       "      <td>57</td>\n",
       "    </tr>\n",
       "    <tr>\n",
       "      <th>1</th>\n",
       "      <td>[A, D, J]</td>\n",
       "      <td>3</td>\n",
       "      <td>52</td>\n",
       "    </tr>\n",
       "    <tr>\n",
       "      <th>2</th>\n",
       "      <td>[A, B, G, N]</td>\n",
       "      <td>4</td>\n",
       "      <td>51</td>\n",
       "    </tr>\n",
       "    <tr>\n",
       "      <th>3</th>\n",
       "      <td>[A, D, I, P, S]</td>\n",
       "      <td>5</td>\n",
       "      <td>50</td>\n",
       "    </tr>\n",
       "    <tr>\n",
       "      <th>4</th>\n",
       "      <td>[A, D, I, P, R]</td>\n",
       "      <td>5</td>\n",
       "      <td>46</td>\n",
       "    </tr>\n",
       "    <tr>\n",
       "      <th>5</th>\n",
       "      <td>[A, B, E, L]</td>\n",
       "      <td>4</td>\n",
       "      <td>46</td>\n",
       "    </tr>\n",
       "    <tr>\n",
       "      <th>6</th>\n",
       "      <td>[A, B, E, K]</td>\n",
       "      <td>4</td>\n",
       "      <td>44</td>\n",
       "    </tr>\n",
       "    <tr>\n",
       "      <th>7</th>\n",
       "      <td>[A, D, I, P, Q]</td>\n",
       "      <td>5</td>\n",
       "      <td>42</td>\n",
       "    </tr>\n",
       "    <tr>\n",
       "      <th>8</th>\n",
       "      <td>[A, D, I, O]</td>\n",
       "      <td>4</td>\n",
       "      <td>41</td>\n",
       "    </tr>\n",
       "    <tr>\n",
       "      <th>9</th>\n",
       "      <td>[A, C]</td>\n",
       "      <td>2</td>\n",
       "      <td>38</td>\n",
       "    </tr>\n",
       "    <tr>\n",
       "      <th>10</th>\n",
       "      <td>[A, B, F]</td>\n",
       "      <td>3</td>\n",
       "      <td>31</td>\n",
       "    </tr>\n",
       "    <tr>\n",
       "      <th>11</th>\n",
       "      <td>[A, D, H]</td>\n",
       "      <td>3</td>\n",
       "      <td>30</td>\n",
       "    </tr>\n",
       "  </tbody>\n",
       "</table>\n",
       "</div>"
      ],
      "text/plain": [
       "               path  bomlevel  leadtime\n",
       "0      [A, B, G, M]         4        57\n",
       "1         [A, D, J]         3        52\n",
       "2      [A, B, G, N]         4        51\n",
       "3   [A, D, I, P, S]         5        50\n",
       "4   [A, D, I, P, R]         5        46\n",
       "5      [A, B, E, L]         4        46\n",
       "6      [A, B, E, K]         4        44\n",
       "7   [A, D, I, P, Q]         5        42\n",
       "8      [A, D, I, O]         4        41\n",
       "9            [A, C]         2        38\n",
       "10        [A, B, F]         3        31\n",
       "11        [A, D, H]         3        30"
      ]
     },
     "execution_count": 9,
     "metadata": {},
     "output_type": "execute_result"
    }
   ],
   "source": [
    "test_bom.get_all_paths()"
   ]
  },
  {
   "cell_type": "markdown",
   "id": "18b7be38",
   "metadata": {},
   "source": [
    "Get the longest path. This is effectively where the BOM if bottlenecked during a cold start"
   ]
  },
  {
   "cell_type": "code",
   "execution_count": 10,
   "id": "01c083cf",
   "metadata": {},
   "outputs": [
    {
     "data": {
      "text/html": [
       "<div>\n",
       "<style scoped>\n",
       "    .dataframe tbody tr th:only-of-type {\n",
       "        vertical-align: middle;\n",
       "    }\n",
       "\n",
       "    .dataframe tbody tr th {\n",
       "        vertical-align: top;\n",
       "    }\n",
       "\n",
       "    .dataframe thead th {\n",
       "        text-align: right;\n",
       "    }\n",
       "</style>\n",
       "<table border=\"1\" class=\"dataframe\">\n",
       "  <thead>\n",
       "    <tr style=\"text-align: right;\">\n",
       "      <th></th>\n",
       "      <th>PARENTPARTNUM</th>\n",
       "      <th>PARTNUM</th>\n",
       "      <th>TYPECODE</th>\n",
       "      <th>BOMLEVEL</th>\n",
       "      <th>LEADTIME</th>\n",
       "    </tr>\n",
       "  </thead>\n",
       "  <tbody>\n",
       "    <tr>\n",
       "      <th>0</th>\n",
       "      <td>Complete</td>\n",
       "      <td>A</td>\n",
       "      <td>M</td>\n",
       "      <td>0</td>\n",
       "      <td>8</td>\n",
       "    </tr>\n",
       "    <tr>\n",
       "      <th>1</th>\n",
       "      <td>A</td>\n",
       "      <td>B</td>\n",
       "      <td>M</td>\n",
       "      <td>1</td>\n",
       "      <td>10</td>\n",
       "    </tr>\n",
       "    <tr>\n",
       "      <th>6</th>\n",
       "      <td>B</td>\n",
       "      <td>G</td>\n",
       "      <td>M</td>\n",
       "      <td>2</td>\n",
       "      <td>6</td>\n",
       "    </tr>\n",
       "    <tr>\n",
       "      <th>12</th>\n",
       "      <td>G</td>\n",
       "      <td>M</td>\n",
       "      <td>P</td>\n",
       "      <td>3</td>\n",
       "      <td>41</td>\n",
       "    </tr>\n",
       "  </tbody>\n",
       "</table>\n",
       "</div>"
      ],
      "text/plain": [
       "   PARENTPARTNUM PARTNUM TYPECODE  BOMLEVEL  LEADTIME\n",
       "0       Complete       A        M         0         8\n",
       "1              A       B        M         1        10\n",
       "6              B       G        M         2         6\n",
       "12             G       M        P         3        41"
      ]
     },
     "execution_count": 10,
     "metadata": {},
     "output_type": "execute_result"
    }
   ],
   "source": [
    "test_bom.get_longest_leadtime_path()"
   ]
  },
  {
   "cell_type": "code",
   "execution_count": 12,
   "id": "23699250",
   "metadata": {},
   "outputs": [
    {
     "name": "stdout",
     "output_type": "stream",
     "text": [
      "Maximum leadtime is 65 days.\n"
     ]
    }
   ],
   "source": [
    "longest_leadtime_days = test_bom.get_longest_leadtime_value()\n",
    "print(f'Maximum leadtime is {longest_leadtime_days} days.')"
   ]
  }
 ],
 "metadata": {
  "kernelspec": {
   "display_name": "Python 3",
   "language": "python",
   "name": "python3"
  },
  "language_info": {
   "codemirror_mode": {
    "name": "ipython",
    "version": 3
   },
   "file_extension": ".py",
   "mimetype": "text/x-python",
   "name": "python",
   "nbconvert_exporter": "python",
   "pygments_lexer": "ipython3",
   "version": "3.12.1"
  }
 },
 "nbformat": 4,
 "nbformat_minor": 5
}
